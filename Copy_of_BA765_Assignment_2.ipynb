{
  "nbformat": 4,
  "nbformat_minor": 0,
  "metadata": {
    "colab": {
      "name": "Copy of BA765_Assignment_2.ipynb",
      "provenance": [],
      "collapsed_sections": [],
      "include_colab_link": true
    },
    "kernelspec": {
      "name": "python3",
      "display_name": "Python 3"
    }
  },
  "cells": [
    {
      "cell_type": "markdown",
      "metadata": {
        "id": "view-in-github",
        "colab_type": "text"
      },
      "source": [
        "<a href=\"https://colab.research.google.com/github/anamaharjan1/ba765-assignments/blob/main/Copy_of_BA765_Assignment_2.ipynb\" target=\"_parent\"><img src=\"https://colab.research.google.com/assets/colab-badge.svg\" alt=\"Open In Colab\"/></a>"
      ]
    },
    {
      "cell_type": "markdown",
      "metadata": {
        "id": "mzv8h94p1lp9"
      },
      "source": [
        "# Assignment 2\n",
        "\n",
        "Complete the questions below by answering each question using the appropriate variable name. Do not change the variable names.  \n",
        "\n",
        "To keep the file sizes small, I provide you with very low volume of data, but this does not mean you should use visual inspection. For example, if the maximum value of a list is asked, find it via code, not via visual inspection. \n",
        "\n",
        "Once you completed this assignment, upload the notebook to your GitHub repository (same one that you used for assignment 1) and export your work also as `a2.py` (with this name and format) and submit to QuestromTools course site.\n",
        "\n",
        "ENJOY!"
      ]
    },
    {
      "cell_type": "markdown",
      "metadata": {
        "id": "81VWGDeE2Khh"
      },
      "source": [
        "# Question 1:\n"
      ]
    },
    {
      "cell_type": "code",
      "metadata": {
        "id": "6S3uH33EH4k6"
      },
      "source": [
        "# STARTER CODE\n",
        "\n",
        "# imports\n",
        "import requests\n",
        "\n",
        "# the URL\n",
        "URL = \"https://www.metaweather.com/api/location/search/?query=boston\"\n",
        "\n",
        "# the API response setup for this question\n",
        "resp = requests.get(URL).json()"
      ],
      "execution_count": 12,
      "outputs": []
    },
    {
      "cell_type": "code",
      "metadata": {
        "id": "By9Oc7syIW4u",
        "colab": {
          "base_uri": "https://localhost:8080/"
        },
        "outputId": "868012ac-2975-4ef0-96eb-58393dcbb4ab"
      },
      "source": [
        "# Q1:  save a variable q1_1, which _extracts_ the dictionary from the variable resp provided\n",
        "#      to you in the starter code for Question 1\n",
        "q1_1 = resp[0]\n",
        "print(q1_1)"
      ],
      "execution_count": 14,
      "outputs": [
        {
          "output_type": "stream",
          "text": [
            "{'title': 'Boston', 'location_type': 'City', 'woeid': 2367105, 'latt_long': '42.358631,-71.056702'}\n"
          ],
          "name": "stdout"
        }
      ]
    },
    {
      "cell_type": "code",
      "metadata": {
        "id": "g-7uAzeFI0_f",
        "colab": {
          "base_uri": "https://localhost:8080/"
        },
        "outputId": "6714ae17-9a0c-46e4-b05d-7776932507d7"
      },
      "source": [
        "# Q2: In the variable q1_2, save the keys of the dictionary in q1 as a list\n",
        "q1_2 = list(q1_1.keys())\n",
        "print(q1_2)"
      ],
      "execution_count": 15,
      "outputs": [
        {
          "output_type": "stream",
          "text": [
            "['title', 'location_type', 'woeid', 'latt_long']\n"
          ],
          "name": "stdout"
        }
      ]
    },
    {
      "cell_type": "code",
      "metadata": {
        "id": "hzwzYD3vI1H1",
        "colab": {
          "base_uri": "https://localhost:8080/"
        },
        "outputId": "1ef3ade4-ea5a-448d-8750-b83245d29095"
      },
      "source": [
        "# Q3: extract the latitude (lat) and longitude (lng) from the dictionary\n",
        "#     Each value should be a float\n",
        "#     TIP: the dictionary key provides guidance on the order\n",
        "latt_long_separate = q1_1['latt_long']\n",
        "latt_long_split = list(latt_long_separate.split(','))\n",
        "lat = float(latt_long_split[0])\n",
        "print(lat)\n",
        "lng = float(latt_long_split[1])\n",
        "print(lng)\n"
      ],
      "execution_count": 16,
      "outputs": [
        {
          "output_type": "stream",
          "text": [
            "42.358631\n",
            "-71.056702\n"
          ],
          "name": "stdout"
        }
      ]
    },
    {
      "cell_type": "code",
      "metadata": {
        "id": "qUsFGz-4I1LU",
        "colab": {
          "base_uri": "https://localhost:8080/"
        },
        "outputId": "5848cbce-e919-405f-aeef-589009052f0d"
      },
      "source": [
        "# Q4: using the dictionary key woeid from q1, keep only the even numbers from the id\n",
        "#     save the values as seperate entries in a list. Save this list as the variable q1_4\n",
        "\n",
        "woeid_value = 2367105\n",
        "woeid_separate = [int(d) for d in str(woeid_value)]\n",
        "print(woeid_separate)\n",
        "q1_4 = []\n",
        "\n",
        "for num in woeid_separate:\n",
        "    if num % 2 == 0:\n",
        "     q1_4.append(num)\n",
        "print(q1_4)\n"
      ],
      "execution_count": 17,
      "outputs": [
        {
          "output_type": "stream",
          "text": [
            "[2, 3, 6, 7, 1, 0, 5]\n",
            "[2, 6, 0]\n"
          ],
          "name": "stdout"
        }
      ]
    },
    {
      "cell_type": "markdown",
      "metadata": {
        "id": "WhPv5Ew0Mq-k"
      },
      "source": [
        "# Question 2\n",
        "\n",
        "You have been provided a file that can be read in with the following code:\n",
        "\n",
        "```\n",
        "import pickle\n",
        "with open('q2.pkl', 'rb') as file:\n",
        "  jokes = pickle.load(file)\n",
        "```\n",
        "\n",
        "In your session, `jokes` is a list of dictionaries.  You will use this object to answer the questions below.\n",
        "\n",
        "> Hint:  If you are using Google Colab, you will need to upload the `q2.pkl` file in your gDrive or to the Colab Sesssion. "
      ]
    },
    {
      "cell_type": "code",
      "metadata": {
        "id": "8hP6ug5f_nH7"
      },
      "source": [
        "import pickle\n",
        "with open('q2_updated.pkl', 'rb') as file: \n",
        "  jokes = pickle.load(file)"
      ],
      "execution_count": 18,
      "outputs": []
    },
    {
      "cell_type": "code",
      "metadata": {
        "id": "ZbHfSisTMC8A",
        "colab": {
          "base_uri": "https://localhost:8080/"
        },
        "outputId": "ee4daa6c-2d5a-49c7-d2c9-709a5ba1be85"
      },
      "source": [
        "# Q1:  q2_1 should represent a set of the values from the categories key.\n",
        "q2_1 = set()\n",
        "\n",
        "for element in jokes: \n",
        "  extract_value=element['value']\n",
        "  extract_categories = extract_value['categories']\n",
        "  q2_1.update(extract_categories)\n",
        "print(q2_1)"
      ],
      "execution_count": 19,
      "outputs": [
        {
          "output_type": "stream",
          "text": [
            "{'dad joke', 'nerdy', 'bad joke', 'plain'}\n"
          ],
          "name": "stdout"
        }
      ]
    },
    {
      "cell_type": "code",
      "metadata": {
        "id": "Wpc1ehwYN0bP",
        "colab": {
          "base_uri": "https://localhost:8080/"
        },
        "outputId": "ee932b34-aae2-468a-d4f0-aa6568be1723"
      },
      "source": [
        "# Q2: What is the largest value (max) across the key id.  Save this value as q2_2\n",
        "q2_2 = set()\n",
        "\n",
        "for element in jokes: \n",
        "  extract_value=element['value']\n",
        "  extract_ids = extract_value['id']\n",
        "  q2_2.update(range(extract_ids))\n",
        "\n",
        "print(max(q2_2)+1)\n"
      ],
      "execution_count": 20,
      "outputs": [
        {
          "output_type": "stream",
          "text": [
            "490\n"
          ],
          "name": "stdout"
        }
      ]
    },
    {
      "cell_type": "code",
      "metadata": {
        "id": "NDBlwbi3N0gY",
        "colab": {
          "base_uri": "https://localhost:8080/"
        },
        "outputId": "f7e9fc03-9dab-41d2-9de5-d30fa0c8930e"
      },
      "source": [
        "# Q3: Each entry of jokes has a joke key.  This is a sentence pulled randomly from an online jokes api.  \n",
        "#     Remove the following characters '.,!' (punctuation present in these jokes)\n",
        "#     Make the text lower case.\n",
        "#     Add each word in each entry as a key to a dictionary you store in the variable q2_3 below.\n",
        "#     The value for each key should represent the total number of times the word appeared across the jokes object\n",
        "#     Summary: q2_3 should be a dictionary of word:count pairs, where count is the number of times the word appeared\n",
        "#              across all entries of jokes in the joke key\n",
        "#     \n",
        "import string\n",
        "punctuations=string.punctuation\n",
        "\n",
        "jokes_list = []\n",
        "final_string = \"\"\n",
        "\n",
        "for id in jokes: \n",
        "  get_value = id['value']\n",
        "  get_joke = get_value['joke']\n",
        "  lower_joke = get_joke.lower()\n",
        "  jokes_list.append(lower_joke)\n",
        "make_string=\" \"\n",
        "make_string = make_string.join(jokes_list)\n",
        "\n",
        "\n",
        "for character in make_string:\n",
        "   if character not in punctuations:\n",
        "       final_string = final_string + character\n",
        " \n",
        "print(final_string)\n",
        "\n",
        "q2_3={}\n",
        "for word in final_string.split(): \n",
        "  q2_3.update({word:final_string.count(word)})\n",
        "\n",
        "print(q2_3)"
      ],
      "execution_count": 9,
      "outputs": [
        {
          "output_type": "stream",
          "text": [
            "chuck norris grinds his coffee with his teeth and boils the water with his own rage superman once watched an episode of walker texas ranger he then cried himself to sleep the truth will set you free unless chuck norris has you in which case forget it buddy the class object inherits from chuck norris chuck norris doesnt need to use ajax because pages are too afraid to postback anyways\n",
            "{'chuck': 4, 'norris': 4, 'grinds': 1, 'his': 3, 'coffee': 1, 'with': 2, 'teeth': 1, 'and': 1, 'boils': 1, 'the': 4, 'water': 1, 'own': 1, 'rage': 1, 'superman': 1, 'once': 1, 'watched': 1, 'an': 5, 'episode': 1, 'of': 2, 'walker': 1, 'texas': 1, 'ranger': 1, 'he': 7, 'then': 1, 'cried': 1, 'himself': 1, 'to': 4, 'sleep': 1, 'truth': 1, 'will': 1, 'set': 1, 'you': 2, 'free': 1, 'unless': 1, 'has': 1, 'in': 3, 'which': 1, 'case': 1, 'forget': 1, 'it': 4, 'buddy': 1, 'class': 1, 'object': 1, 'inherits': 1, 'from': 1, 'doesnt': 1, 'need': 1, 'use': 2, 'ajax': 1, 'because': 1, 'pages': 1, 'are': 1, 'too': 1, 'afraid': 1, 'postback': 1, 'anyways': 1}\n"
          ],
          "name": "stdout"
        }
      ]
    },
    {
      "cell_type": "markdown",
      "metadata": {
        "id": "Y1PXAz_7y2ze"
      },
      "source": [
        "# Question 3\n",
        "\n",
        "Write a function called `guessing_game` that satisfies the following requirements:\n",
        "\n",
        "1.  When the function is called, the user is prompted to guess a word\n",
        "1.  The function, internally, will randomly choose a word for the game.  The population of word (the word list) is shown below.\n",
        "1.  If the user does not guess the proper word, the user should be prompted again to try another guess\n",
        "1.  The user is only allowed 3 guesses.  If the user fails to guess the chosen word after 3 attempts, the message `Sorry, the game is over.` should be printed to the screen.\n",
        "1.  If the user enters a word not part of the list below, the message `That word is not part of the vocabulary.` should be printed to the screen.  However, if this situation occurs during the 3rd failed guess, only the message in step 4 should be printed.\n",
        "1.  If the user correctly guesses the word, the message `Correct! Well Done.` should be printed on the screen.\n",
        "1.  If a string is not input by the user, the function should print `You did not guess a string, Game Over!` and end the game. You can use `string` package as in `string.ascii_letters` to guarantee that the entry is a string semantically.\n",
        "\n",
        "\n",
        "\n",
        "The word list that should be used by the function:\n",
        "\n",
        "- `numpy`\n",
        "- `seaborn`\n",
        "- `pandas`\n",
        "- `pantab`\n",
        "- `spacy`\n",
        "- `requests`\n",
        "- `tensorflow`\n",
        "\n"
      ]
    },
    {
      "cell_type": "code",
      "metadata": {
        "colab": {
          "base_uri": "https://localhost:8080/"
        },
        "id": "CQhoMvnho45Y",
        "outputId": "53ff49a7-713d-4297-e32f-f7bebc28c5c9"
      },
      "source": [
        "import random\n",
        "import string\n",
        "\n",
        "words_list = ['numpy', 'seaborn', 'pandas', 'pantab', 'spacy', 'requests', 'tensorflow']\n",
        "\n",
        "actual = random.choice(words_list)\n",
        "\n",
        "number_guesses = 1 \n",
        "guess = input('Guess a word ')\n",
        "stop = ''\n",
        "\n",
        "while guess !=actual:\n",
        "  for i in guess:\n",
        "    if i not in string.ascii_letters and stop !=\"stop\":\n",
        "      print('You did not guess a string, Game Over!')\n",
        "      stop = \"stop\"\n",
        "      break\n",
        "  if number_guesses<3 and guess not in words_list and stop!=\"stop\": \n",
        "    print(\"That word is not part of the vocabulary.\")\n",
        "  if number_guesses<3 and stop!=\"stop\":\n",
        "    guess = input('Try again! Guess a word ')\n",
        "  if number_guesses ==3 and actual != guess and stop !=\"stop\": \n",
        "    print(\"Sorry, the game is over.\")\n",
        "    break\n",
        "  number_guesses+=1\n",
        "if guess == actual:\n",
        "  print(\"Correct! Well Done.\")\n"
      ],
      "execution_count": 22,
      "outputs": [
        {
          "output_type": "stream",
          "text": [
            "Guess a word seaborn\n",
            "Correct! Well Done.\n"
          ],
          "name": "stdout"
        }
      ]
    }
  ]
}